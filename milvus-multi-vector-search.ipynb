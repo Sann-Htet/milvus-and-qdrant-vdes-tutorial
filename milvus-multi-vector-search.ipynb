{
 "cells": [
  {
   "cell_type": "code",
   "execution_count": 7,
   "metadata": {},
   "outputs": [],
   "source": [
    "from pymilvus import connections, Collection, FieldSchema, CollectionSchema, DataType\n",
    "import random\n",
    "\n",
    "# Connect to Milvus\n",
    "connections.connect(\n",
    "    host=\"localhost\",\n",
    "    port=\"19530\"\n",
    ")"
   ]
  },
  {
   "cell_type": "code",
   "execution_count": 8,
   "metadata": {},
   "outputs": [
    {
     "data": {
      "text/plain": [
       "(insert count: 1000, delete count: 0, upsert count: 0, timestamp: 449888472575508485, success count: 1000, err count: 0, cost: 0)"
      ]
     },
     "execution_count": 8,
     "metadata": {},
     "output_type": "execute_result"
    }
   ],
   "source": [
    "# Create schema\n",
    "fields = [\n",
    "    FieldSchema(name=\"film_id\", dtype=DataType.INT64, is_primary=True),\n",
    "    FieldSchema(name=\"filmVector\", dtype=DataType.FLOAT_VECTOR, dim=5), # Vector field for film vectors\n",
    "    FieldSchema(name=\"posterVector\", dtype=DataType.FLOAT_VECTOR, dim=5)] # Vector field for poster vectors\n",
    "\n",
    "schema = CollectionSchema(fields=fields,enable_dynamic_field=False)\n",
    "\n",
    "# Create collection\n",
    "collection = Collection(name=\"test_collection\", schema=schema)\n",
    "\n",
    "# Create index for each vector field\n",
    "index_params = {\n",
    "    \"metric_type\": \"L2\",\n",
    "    \"index_type\": \"IVF_FLAT\",\n",
    "    \"params\": {\"nlist\": 128},\n",
    "}\n",
    "\n",
    "collection.create_index(\"filmVector\", index_params)\n",
    "collection.create_index(\"posterVector\", index_params)\n",
    "\n",
    "# Generate random entities to insert\n",
    "entities = []\n",
    "\n",
    "for _ in range(1000):\n",
    "    # generate random values for each field in the schema\n",
    "    film_id = random.randint(1, 1000)\n",
    "    film_vector = [ random.random() for _ in range(5) ]\n",
    "    poster_vector = [ random.random() for _ in range(5) ]\n",
    "\n",
    "    # creat a dictionary for each entity\n",
    "    entity = {\n",
    "        \"film_id\": film_id,\n",
    "        \"filmVector\": film_vector,\n",
    "        \"posterVector\": poster_vector\n",
    "    }\n",
    "\n",
    "    # add the entity to the list\n",
    "    entities.append(entity)\n",
    "    \n",
    "collection.insert(entities)"
   ]
  },
  {
   "cell_type": "code",
   "execution_count": 9,
   "metadata": {},
   "outputs": [],
   "source": [
    "from pymilvus import AnnSearchRequest\n",
    "\n",
    "# Create ANN search request 1 for filmVector\n",
    "query_filmVector = [[0.8896863042430693, 0.370613100114602, 0.23779315077113428, 0.38227915951132996, 0.5997064603128835]]\n",
    "\n",
    "search_param_1 = {\n",
    "    \"data\": query_filmVector, # Query vector\n",
    "    \"anns_field\": \"filmVector\", # Vector field name\n",
    "    \"param\": {\n",
    "        \"metric_type\": \"L2\", # This parameter value must be identical to the one used in the collection schema\n",
    "        \"params\": {\"nprobe\": 10}\n",
    "    },\n",
    "    \"limit\": 2 # Number of search results to return in this AnnSearchRequest\n",
    "}\n",
    "request_1 = AnnSearchRequest(**search_param_1)\n",
    "\n",
    "# Create ANN search request 2 for posterVector\n",
    "query_posterVector = [[0.02550758562349764, 0.006085637357292062, 0.5325251250159071, 0.7676432650114147, 0.5521074424751443]]\n",
    "search_param_2 = {\n",
    "    \"data\": query_posterVector, # Query vector\n",
    "    \"anns_field\": \"posterVector\", # Vector field name\n",
    "    \"param\": {\n",
    "        \"metric_type\": \"L2\", # This parameter value must be identical to the one used in the collection schema\n",
    "        \"params\": {\"nprobe\": 10}\n",
    "    },\n",
    "    \"limit\": 2 # Number of search results to return in this AnnSearchRequest\n",
    "}\n",
    "request_2 = AnnSearchRequest(**search_param_2)\n",
    "\n",
    "# Store these two requests as a list in `reqs`\n",
    "reqs = [request_1, request_2]"
   ]
  },
  {
   "cell_type": "code",
   "execution_count": 10,
   "metadata": {},
   "outputs": [],
   "source": [
    "from pymilvus import WeightedRanker\n",
    "# Use WeightedRanker to combine results with specified weights\n",
    "# Assign weights of 0.8 to text search and 0.2 to image search\n",
    "rerank = WeightedRanker(0.8, 0.2)  "
   ]
  },
  {
   "cell_type": "code",
   "execution_count": 11,
   "metadata": {},
   "outputs": [],
   "source": [
    "# Alternatively, use RRFRanker for reciprocal rank fusion reranking\n",
    "from pymilvus import RRFRanker\n",
    "\n",
    "rerank = RRFRanker()"
   ]
  },
  {
   "cell_type": "code",
   "execution_count": 12,
   "metadata": {},
   "outputs": [
    {
     "name": "stdout",
     "output_type": "stream",
     "text": [
      "data: [\"['id: 21, distance: 0.016393441706895828, entity: {}', 'id: 880, distance: 0.016393441706895828, entity: {}']\"] , cost: 0\n"
     ]
    }
   ],
   "source": [
    "# Before conducting multi-vector search, load the collection into memory.\n",
    "collection.load()\n",
    "\n",
    "res = collection.hybrid_search(\n",
    "    reqs, # List of AnnSearchRequests created in step 1\n",
    "    rerank, # Reranking strategy specified in step 2\n",
    "    limit=2 # Number of final search results to return\n",
    ")\n",
    "\n",
    "print(res)"
   ]
  },
  {
   "cell_type": "code",
   "execution_count": null,
   "metadata": {},
   "outputs": [],
   "source": []
  }
 ],
 "metadata": {
  "kernelspec": {
   "display_name": "milvus-tutorial",
   "language": "python",
   "name": "python3"
  },
  "language_info": {
   "codemirror_mode": {
    "name": "ipython",
    "version": 3
   },
   "file_extension": ".py",
   "mimetype": "text/x-python",
   "name": "python",
   "nbconvert_exporter": "python",
   "pygments_lexer": "ipython3",
   "version": "3.11.8"
  }
 },
 "nbformat": 4,
 "nbformat_minor": 2
}
