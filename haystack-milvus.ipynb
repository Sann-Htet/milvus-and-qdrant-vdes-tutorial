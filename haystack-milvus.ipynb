{
 "cells": [
  {
   "cell_type": "code",
   "execution_count": 1,
   "metadata": {},
   "outputs": [
    {
     "name": "stderr",
     "output_type": "stream",
     "text": [
      "/home/sann_htet/milvus-tutorial/lib/python3.11/site-packages/tqdm/auto.py:21: TqdmWarning: IProgress not found. Please update jupyter and ipywidgets. See https://ipywidgets.readthedocs.io/en/stable/user_install.html\n",
      "  from .autonotebook import tqdm as notebook_tqdm\n",
      "/home/sann_htet/milvus-tutorial/lib/python3.11/site-packages/huggingface_hub/file_download.py:1132: FutureWarning: `resume_download` is deprecated and will be removed in version 1.0.0. Downloads always resume when possible. If you want to force a new download, use `force_download=True`.\n",
      "  warnings.warn(\n",
      "Batches: 100%|██████████| 5/5 [00:11<00:00,  2.27s/it]\n"
     ]
    }
   ],
   "source": [
    "import os\n",
    "\n",
    "from haystack import Pipeline\n",
    "from haystack.document_stores.in_memory import InMemoryDocumentStore\n",
    "from haystack.components.converters import TextFileToDocument\n",
    "from haystack.components.preprocessors import DocumentCleaner, DocumentSplitter\n",
    "from haystack.components.writers import DocumentWriter\n",
    "from haystack.components.preprocessors import DocumentCleaner\n",
    "from haystack.components.retrievers.in_memory.embedding_retriever import InMemoryEmbeddingRetriever, InMemoryDocumentStore\n",
    "from haystack.components.embedders import SentenceTransformersDocumentEmbedder, SentenceTransformersTextEmbedder\n",
    "from haystack.components.retrievers.in_memory import InMemoryEmbeddingRetriever\n",
    "\n",
    "\n",
    "from milvus_haystack import MilvusDocumentStore\n",
    "from milvus_haystack.milvus_embedding_retriever import MilvusEmbeddingRetriever\n",
    "\n",
    "\n",
    "document_store = MilvusDocumentStore(\n",
    "    connection_args={\n",
    "        \"host\": \"localhost\",\n",
    "        \"port\": \"19530\",\n",
    "        \"user\": \"\",\n",
    "        \"password\": \"\",\n",
    "        \"secure\": False,\n",
    "    },\n",
    "    drop_old=True,\n",
    ")\n",
    "text_file_converter = TextFileToDocument()\n",
    "cleaner = DocumentCleaner()\n",
    "splitter = DocumentSplitter(split_length = 1000, split_overlap=10)\n",
    "writer = DocumentWriter(document_store)\n",
    "\n",
    "doc_dir = \"/home/sann_htet/Desktop/milvus-tutorial/dataset\"\n",
    "files_to_index = [doc_dir + \"/\" + f for f in os.listdir(doc_dir)]\n",
    "\n",
    "\n",
    "indexing_pipeline = Pipeline()\n",
    "indexing_pipeline.add_component(\"converter\", text_file_converter)\n",
    "indexing_pipeline.add_component(\"cleaner\", cleaner)\n",
    "indexing_pipeline.add_component(\"splitter\", splitter)\n",
    "\n",
    "indexing_pipeline.connect(\"converter.documents\", \"cleaner.documents\")\n",
    "indexing_pipeline.connect(\"cleaner.documents\", \"splitter.documents\")\n",
    "docs = indexing_pipeline.run(data={\"sources\": files_to_index[:40]})\n",
    "\n",
    "doc_embedder = SentenceTransformersDocumentEmbedder(model=\"sentence-transformers/all-MiniLM-L12-v2\")\n",
    "doc_embedder.warm_up()\n",
    "\n",
    "docs_with_embeddings = doc_embedder.run(docs['splitter'][\"documents\"])\n",
    "document_store.write_documents(docs_with_embeddings[\"documents\"])\n",
    "\n",
    "retriever = MilvusEmbeddingRetriever(document_store, top_k=1)"
   ]
  },
  {
   "cell_type": "code",
   "execution_count": 2,
   "metadata": {},
   "outputs": [],
   "source": [
    "query = \"\"\"\n",
    "The Night King is shown leading his army south. Through ravens' eyes, Bran locates the Night King's army beyond the Wall.\n",
    "\"\"\"\n",
    "# query = \"\"\"\n",
    "# Arya escapes King's Landing with Yoren and his party of recruits; and on the road, she clashes with the other Night's Watch child recruits Lommy, Gendry, and Hot Pie but eventually befriends them. On the way, the party is attacked by Amory Lorch when Yoren refuses to yield Gendry, who is actually a bastard son of the late King Robert, to the Lannisters.  The Night's Watch convoy is overrun and massacred, but Arya and the other children escape through a tunnel.  Before escaping, she rescues three prisoners locked in a wagon cage, among them a mysterious man named Jaqen H'ghar.\n",
    "# \"\"\"\n",
    "text_embedder = SentenceTransformersTextEmbedder(model=\"sentence-transformers/all-MiniLM-L12-v2\", progress_bar=False)\n",
    "text_embedder.warm_up()\n",
    "query_embedding = text_embedder.run(query)[\"embedding\"]\n",
    "\n",
    "result = retriever.run(query_embedding=query_embedding)"
   ]
  },
  {
   "cell_type": "code",
   "execution_count": 4,
   "metadata": {},
   "outputs": [
    {
     "data": {
      "text/plain": [
       "'not include the Night King\\'s first appearance onscreen as it does in the series, it would have been an extensive montage of scenes from the past, present and possible future in the series. Flashbacks would have included scenes of Ned cleaning Ice beneath a weirwood tree from the show\\'s original pilot, Bran\\'s uncle Benjen and Lyanna Stark as children (later shown in a more extensive flashback in season 6), King Aerys watching and laughing as Ned\\'s father and brother are burned and Jaime and Cersei embracing in the old keep at Winterfell just before Bran discovered them. Scenes reflecting the show\\'s present included Jon with Ghost, a bloodied Robb surrounded by the Red Wedding dead, and Arya holding her sword Needle as her face blurs and changes. Possible future images include a dragon\\'s shadow passing over King\\'s Landing, \"hints of strange small children with very dark eyes\" and a group of four distinctive northern hills behind a very large weirwood. The episode would also have set up some of the plotlines from the books that were not used in the later seasons of the series. Roose Bolton tells Ramsay that he has arranged for him to marry Arya as a way of consolidating the family\\'s hold on the North; a role assigned to Sansa instead in the next season. Several lines were also intended to set up Jaime\\'s trip to the Riverlands, which in the books immediately follows Joffrey\\'s wedding but in the series was largely replaced by Jamie and Bronn\\'s expedition to Dorne to bring Myrcella back to King\\'s Landing. The two characters who take that trip instead in the books, along with many other minor characters from the wedding scenes, were in Martin\\'s draft but eliminated from the produced version as showrunners David Benioff and D. B. Weiss were beginning to focus on the more established characters in the later seasons. Robinson believes a note by Martin in the script suggests a different resolution to Ramsay\\'s plot arc in the books, where he is still alive and in power at Winterfell at the end of \\'\\'A Dance with Dragons\\'\\', in contrast to his death at the end of the sixth season of \\'\\'Game of Thrones\\'\\'. Martin\\'s note told the showrunners that Ramsay\\'s dogs would eventually battle the Stark children\\'s direwolves, so the show should emphasize the former as much as possible to build audience anticipation. However, that never happened onscreen, where all but two of the wolves are dead as of the end of season 7, and seems unlikely in the books. Robinson believes this indicates that Ramsay will have a very different plot arc in the series\\' two final books. Lesser differences include a more protracted, bloodier death scene for Joffrey as the poison drives him to slash his own face, a more lavish feast, and Theon\\'s appearance as Reek following Ramsay\\'s extensive torture more closely resembling that described in the books, complete with whitened hair and missing fingers, something that would have required more extensive special effects for the remainder of the series, as well as speaking in rhyme. Similarly, the burning of the heretics on the beach at Dragonstone would have demonstrated the power of the Lord of Light, with the bonfires suddenly changing to different colors and apparitions of the now-forgiven dead seen briefly above; the scene would have also foreshadowed Shireen\\'s sacrifice by the same method the next season. The scene where Varys warns Tyrion that Cersei has told Tywin about Shae, a short conversation on a garden path in the finished episode, instead takes place at more length in the Red Keep\\'s dungeons, with Varys dressed as \"a denizen of the dungeons\" in armor, carrying a whip and wearing a false beard. Martin also wrote that some of the scenes should be shot from an individual character\\'s point of view, much as most of his book chapters are written from the point of view of the character they take their name from. While he admitted that it had been difficult to bring that aspect of his story to the screen, he nevertheless attempted it here, calling for the scene where Ramsay and Myranda chase the woman to her death at the hands of his hounds to be seen from the woman\\'s point of view as she runs and then falls to the ground, then from Theon\\'s as he looks on defeated. The producers did, however, shoot scenes from the point of view of Bran\\'s direwolf Summer, which Robinson notes saved them money since the animals have been expensive to shoot scenes with. ===Casting===\\nMembers of Sigur Rós appeared in the episode.\\nThe episode has the introduction of new recurring cast members Roger Ashton-Griffiths as Mace Tyrell, the Lord of Highgarden, and Elisabeth Webster as Walda Frey, Roose Bolton\\'s new bride. Young actor Dean-Charles Chapman takes over the role of Tommen Baratheon as of this episode. In a cameo appearance, the Icelandic band Sigur Rós performed their rendition of \"The Rains of Castamere\" at King Joffrey\\'s wedding, and again during the credits. With this episode, Iwan Rheon (Ramsay Snow) is promoted to series regular. ==Reception==\\n===Ratings===\\n\"The Lion and the Rose\" was watched by an estimated 6.31 million people during its first hour. In the United Kingdom, the episode was viewed by 1.651 million viewers, making it the highest-rated broadcast that week. It also received 0.095 million timeshift viewers. ===Critical reception===\\nThe episode received unanimous critical acclaim; according to Rotten Tomatoes all 35 reviews aggregated by the website were positive, with an average score of 9.5 out of 10. James Poniewozik at \\'\\'Time\\'\\' called it \"perhaps the best episode\" of the series, singling out the protracted wedding sequence for particular praise. Writing for The A.V. Club, Emily VanDerWerff gave the episode an \"A\" grade, calling it \"one of the best episodes of this show, and Joffrey’s wedding is one of the best sequences in the whole series.\" VanDerWerff praised Martin\\'s script as well as the directing by Alex Graves, which she said \"smartly creates a real sense of '"
      ]
     },
     "execution_count": 4,
     "metadata": {},
     "output_type": "execute_result"
    }
   ],
   "source": [
    "result['documents'][0].content"
   ]
  }
 ],
 "metadata": {
  "kernelspec": {
   "display_name": "milvus-tutorial",
   "language": "python",
   "name": "python3"
  },
  "language_info": {
   "codemirror_mode": {
    "name": "ipython",
    "version": 3
   },
   "file_extension": ".py",
   "mimetype": "text/x-python",
   "name": "python",
   "nbconvert_exporter": "python",
   "pygments_lexer": "ipython3",
   "version": "3.11.8"
  }
 },
 "nbformat": 4,
 "nbformat_minor": 2
}
